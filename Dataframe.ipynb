{
 "cells": [
  {
   "cell_type": "markdown",
   "id": "ee628b1c-cdb6-46e1-828f-f52441a9aa2d",
   "metadata": {},
   "source": [
    "# Dataframe"
   ]
  },
  {
   "cell_type": "code",
   "execution_count": 5,
   "id": "1d59ebcb-1ddb-420a-8c9c-e9bc94cf72ae",
   "metadata": {},
   "outputs": [
    {
     "name": "stdout",
     "output_type": "stream",
     "text": [
      "   a  b\n",
      "a  1  1\n",
      "s  2  2\n",
      "d  3  3\n",
      "f  4  4\n",
      "g  5  5\n",
      "h  6  6\n"
     ]
    }
   ],
   "source": [
    "import pandas as pd\n",
    "var1={\"a\":[1,2,3,4,5,6],\"b\":[1,2,3,4,5,6]}\n",
    "var2=pd.DataFrame(var1,index=[\"a\",\"s\",\"d\",\"f\",\"g\",\"h\"])\n",
    "print(var2)                "
   ]
  },
  {
   "cell_type": "code",
   "execution_count": 6,
   "id": "de29a761-c018-42c2-b191-a5cccf7451e6",
   "metadata": {},
   "outputs": [
    {
     "name": "stdout",
     "output_type": "stream",
     "text": [
      "    0   1   2   3   4   5\n",
      "0   1   2   3   4   5   6\n",
      "1  10  20  30  40  50  60\n",
      "2   a   s   d   f   g   h\n"
     ]
    }
   ],
   "source": [
    "var3=[[1,2,3,4,5,6],[10,20,30,40,50,60],[\"a\",\"s\",\"d\",\"f\",\"g\",\"h\"]]\n",
    "var4=pd.DataFrame(var3)\n",
    "print(var4)"
   ]
  },
  {
   "cell_type": "code",
   "execution_count": 9,
   "id": "a8e5baaf-e9b1-4bd7-999b-069d9faa98e7",
   "metadata": {},
   "outputs": [
    {
     "name": "stdout",
     "output_type": "stream",
     "text": [
      "   a   b  c\n",
      "0  1  10  a\n",
      "1  2  20  s\n",
      "2  3  30  d\n",
      "3  4  40  f\n",
      "4  5  50  g\n",
      "5  6  60  h\n"
     ]
    }
   ],
   "source": [
    "var5={\"a\":[1,2,3,4,5,6],\"b\":[10,20,30,40,50,60],\"c\":[\"a\",\"s\",\"d\",\"f\",\"g\",\"h\"]}\n",
    "var6=pd.DataFrame(var5)\n",
    "print(var6)"
   ]
  },
  {
   "cell_type": "code",
   "execution_count": 11,
   "id": "9c89f2b3-a1db-4b53-927c-26e02e2d8037",
   "metadata": {},
   "outputs": [
    {
     "name": "stdout",
     "output_type": "stream",
     "text": [
      "3\n"
     ]
    }
   ],
   "source": [
    "var7=var6[\"a\"][2]\n",
    "print(var7)"
   ]
  },
  {
   "cell_type": "code",
   "execution_count": 12,
   "id": "fea0ffa7-4aab-47c9-a3d4-8c49070dfe2e",
   "metadata": {},
   "outputs": [
    {
     "name": "stdout",
     "output_type": "stream",
     "text": [
      "   a   b\n",
      "0  1  10\n",
      "1  2  20\n",
      "2  3  30\n",
      "3  4  40\n",
      "4  5  50\n",
      "5  6  60\n"
     ]
    }
   ],
   "source": [
    "var8={\"a\":[1,2,3,4,5,6],\"b\":[10,20,30,40,50,60],\"c\":[\"a\",\"s\",\"d\",\"f\",\"g\",\"h\"]}\n",
    "var9=pd.DataFrame(var8,columns=[\"a\",\"b\"])\n",
    "print(var9)"
   ]
  },
  {
   "cell_type": "code",
   "execution_count": null,
   "id": "8ed3408b-e77f-460a-ad1c-a5dc89293b87",
   "metadata": {},
   "outputs": [],
   "source": []
  }
 ],
 "metadata": {
  "kernelspec": {
   "display_name": "Python 3 (ipykernel)",
   "language": "python",
   "name": "python3"
  },
  "language_info": {
   "codemirror_mode": {
    "name": "ipython",
    "version": 3
   },
   "file_extension": ".py",
   "mimetype": "text/x-python",
   "name": "python",
   "nbconvert_exporter": "python",
   "pygments_lexer": "ipython3",
   "version": "3.13.1"
  }
 },
 "nbformat": 4,
 "nbformat_minor": 5
}
