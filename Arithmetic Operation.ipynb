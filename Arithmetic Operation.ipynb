{
 "cells": [
  {
   "cell_type": "markdown",
   "id": "12fd7442-87dc-46d5-9320-b6260274eb57",
   "metadata": {},
   "source": [
    "# Arithmetic Operation"
   ]
  },
  {
   "cell_type": "code",
   "execution_count": 2,
   "id": "269c8660-6e7d-4411-af37-395d1825bda6",
   "metadata": {},
   "outputs": [
    {
     "name": "stdout",
     "output_type": "stream",
     "text": [
      "   a   b   c\n",
      "0  1  10  11\n",
      "1  2  20  22\n",
      "2  3  30  33\n",
      "3  4  40  44\n",
      "4  5  50  55\n",
      "5  6  60  66\n"
     ]
    }
   ],
   "source": [
    "import pandas as pd \n",
    "var=pd.DataFrame({\"a\":[1,2,3,4,5,6],\"b\":[10,20,30,40,50,60]})\n",
    "var[\"c\"]=var[\"a\"]+var[\"b\"] #similarly it goes with -,*,/\n",
    "print(var)"
   ]
  },
  {
   "cell_type": "code",
   "execution_count": 5,
   "id": "9bbc103c-ad9a-453d-8e25-ae783db5b4bb",
   "metadata": {},
   "outputs": [
    {
     "name": "stdout",
     "output_type": "stream",
     "text": [
      "    a  python      b\n",
      "0  16   False   True\n",
      "1  35    True  False\n",
      "2  20    True   True\n",
      "3  13   False   True\n",
      "4  40    True  False\n"
     ]
    }
   ],
   "source": [
    "var1=pd.DataFrame({\"a\":[16,35,20,13,40]})\n",
    "var1[\"python\"]=var1[\"a\"]>=20\n",
    "var1[\"b\"]=var1[\"a\"]<=20\n",
    "print(var1)"
   ]
  },
  {
   "cell_type": "code",
   "execution_count": null,
   "id": "8d53838c-fb39-4409-873b-59b6ea9df7dc",
   "metadata": {},
   "outputs": [],
   "source": []
  }
 ],
 "metadata": {
  "kernelspec": {
   "display_name": "Python 3 (ipykernel)",
   "language": "python",
   "name": "python3"
  },
  "language_info": {
   "codemirror_mode": {
    "name": "ipython",
    "version": 3
   },
   "file_extension": ".py",
   "mimetype": "text/x-python",
   "name": "python",
   "nbconvert_exporter": "python",
   "pygments_lexer": "ipython3",
   "version": "3.13.1"
  }
 },
 "nbformat": 4,
 "nbformat_minor": 5
}
