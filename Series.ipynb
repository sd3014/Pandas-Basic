{
 "cells": [
  {
   "cell_type": "markdown",
   "id": "2520926c-2fbc-49c8-8f71-bd67a164f049",
   "metadata": {},
   "source": [
    "SERIES"
   ]
  },
  {
   "cell_type": "code",
   "execution_count": 3,
   "id": "1856ffed-1b08-4eb9-9318-483a9cc0ab24",
   "metadata": {},
   "outputs": [
    {
     "name": "stdout",
     "output_type": "stream",
     "text": [
      "0    A\n",
      "1    B\n",
      "2    C\n",
      "3    D\n",
      "4    E\n",
      "5    F\n",
      "dtype: object\n",
      "\n",
      "C\n"
     ]
    }
   ],
   "source": [
    "import pandas as pd\n",
    "var1=[\"A\",\"B\",\"C\",\"D\",\"E\",\"F\"]\n",
    "var2=pd.Series(var1)\n",
    "print(var2)\n",
    "print()\n",
    "print(var2[2])"
   ]
  },
  {
   "cell_type": "code",
   "execution_count": 7,
   "id": "64ded52f-3007-4aeb-96b1-13889a63e8e8",
   "metadata": {},
   "outputs": [
    {
     "name": "stdout",
     "output_type": "stream",
     "text": [
      "A    1.0\n",
      "B    2.0\n",
      "C    3.0\n",
      "D    4.0\n",
      "E    5.0\n",
      "F    6.0\n",
      "Name: Python, dtype: float64\n"
     ]
    }
   ],
   "source": [
    "var3=[1,2,3,4,5,6]\n",
    "var4=pd.Series(var3,dtype=\"float\",index=[\"A\",\"B\",\"C\",\"D\",\"E\",\"F\"],name=\"Python\")\n",
    "print(var4)"
   ]
  },
  {
   "cell_type": "code",
   "execution_count": 9,
   "id": "9273a79a-7836-49af-b13a-9faca3813f84",
   "metadata": {},
   "outputs": [
    {
     "name": "stdout",
     "output_type": "stream",
     "text": [
      "name        [A, B, C, D, E, F]\n",
      "Roll-No.    [1, 2, 3, 4, 5, 6]\n",
      "Class       [1, 2, 3, 4, 5, 6]\n",
      "dtype: object\n"
     ]
    }
   ],
   "source": [
    "dic={\"name\":[\"A\",\"B\",\"C\",\"D\",\"E\",\"F\"],\"Roll-No.\":[1,2,3,4,5,6],\"Class\":[1,2,3,4,5,6]}\n",
    "var5=pd.Series(dic)\n",
    "print(var5)"
   ]
  },
  {
   "cell_type": "code",
   "execution_count": 12,
   "id": "083d1efe-7569-442e-923c-9006d9d42b09",
   "metadata": {},
   "outputs": [
    {
     "name": "stdout",
     "output_type": "stream",
     "text": [
      "0    12\n",
      "dtype: int64\n",
      "<class 'pandas.core.series.Series'>\n"
     ]
    }
   ],
   "source": [
    "var6=pd.Series(12)\n",
    "print(var6)\n",
    "print(type(var6))"
   ]
  },
  {
   "cell_type": "code",
   "execution_count": 13,
   "id": "95bd725a-02cf-4ac2-b3cd-ce8376b6c72f",
   "metadata": {},
   "outputs": [
    {
     "name": "stdout",
     "output_type": "stream",
     "text": [
      "1    12\n",
      "2    12\n",
      "3    12\n",
      "4    12\n",
      "5    12\n",
      "6    12\n",
      "dtype: int64\n"
     ]
    }
   ],
   "source": [
    "var7=pd.Series(12,index=[1,2,3,4,5,6])\n",
    "print(var7)"
   ]
  },
  {
   "cell_type": "code",
   "execution_count": 14,
   "id": "157b719f-e3c0-4c76-909a-0bc55bb7e635",
   "metadata": {},
   "outputs": [
    {
     "name": "stdout",
     "output_type": "stream",
     "text": [
      "0    11.0\n",
      "1    12.0\n",
      "2    13.0\n",
      "3    14.0\n",
      "4     NaN\n",
      "5     NaN\n",
      "dtype: float64\n"
     ]
    }
   ],
   "source": [
    "var8=pd.Series([1,2,3,4,5,6])\n",
    "var9=pd.Series([10,10,10,10])\n",
    "print(var8+var9)"
   ]
  },
  {
   "cell_type": "code",
   "execution_count": null,
   "id": "d2a3c944-4ffe-4786-b72f-8de8374b8417",
   "metadata": {},
   "outputs": [],
   "source": []
  }
 ],
 "metadata": {
  "kernelspec": {
   "display_name": "Python 3 (ipykernel)",
   "language": "python",
   "name": "python3"
  },
  "language_info": {
   "codemirror_mode": {
    "name": "ipython",
    "version": 3
   },
   "file_extension": ".py",
   "mimetype": "text/x-python",
   "name": "python",
   "nbconvert_exporter": "python",
   "pygments_lexer": "ipython3",
   "version": "3.13.1"
  }
 },
 "nbformat": 4,
 "nbformat_minor": 5
}
